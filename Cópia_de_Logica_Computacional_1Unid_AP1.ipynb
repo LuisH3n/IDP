{
  "nbformat": 4,
  "nbformat_minor": 0,
  "metadata": {
    "colab": {
      "provenance": []
    },
    "kernelspec": {
      "name": "python3",
      "display_name": "Python 3"
    },
    "language_info": {
      "name": "python"
    }
  },
  "cells": [
    {
      "cell_type": "markdown",
      "source": [
        "# 1a. Unidade - AP1\n",
        "\n",
        "Nos exercícios abaixos, utilizamos como número do exercício a notação (livro-seção-número do exercício), por exemplo (2-2.3-2.1) significa Livro 2, seção 2.3, exercício 2.1.\n",
        "\n",
        "Você deve fazer uma cópia desse colab e editá-la, escrevendo as respostas em Markdown com $\\LaTeX$, como nas respostas-modelo fornecidas. Para fazer sua cópia vá no menu \"Arquivo -> Salvar uma cópia no drive\"\n",
        "\n",
        "Em seguida você deve Compartilhar o Colab para que \"qualquer pessoa com o link\" possa ler e submeter o link na entrega da tarefa. Clique no botão azul claro no lado superior direito (Compartilhar) e mude a opção em \"Acesso geral\" de \"Restrito\" para \"Qualquer pessoa com o link\" (deixe em \"Leitor\"). É o link obtido no \"Copiar Link\" que você deve postar como resposta da tarefa. Não compartilhe o seu link com outras pessoas para elas não copiarem as suas respostas. Você só precisa modificar o acesso (via Compartilhar) quando for submeter a tarefa.\n",
        "\n",
        "Faça você mesmo suas questões, é importante para você aprender o assunto e se preparar para a prova.\n",
        "\n",
        "Para editar uma célula, dê um clique duplo em cima dela. Clique fora dela para voltar para a exibição \"formatada\".\n",
        "\n",
        "Você pode postar dúvidas no Canva, criei um tópico específico para dúvidas desta lista [neste link](https://ambientevirtual.idp.edu.br/courses/6012/discussion_topics/23417).\n",
        "\n",
        "A lista é fácil, mas é um pouco trabalhosa. Não deixa para começar em cima da hora de entregar! A lista tem 48 pontos, sua nota vai ser calculada proporcionalmente, levando em consideração a quantidade de pontos obtidos. Por exemplo, se você fizer 48 pontos, sua nota será 10, já se você fizer 24 pontos sua nota será 5."
      ],
      "metadata": {
        "id": "EWw2BC33vjWi"
      }
    },
    {
      "cell_type": "markdown",
      "source": [
        "***"
      ],
      "metadata": {
        "id": "1ND6blz3XYrU"
      }
    },
    {
      "cell_type": "markdown",
      "source": [
        "(SuplementarV1-1.5-1.4) Para cada uma das sentenças seguintes, indique se o seu\n",
        "conectivo principal é '$\\neg$', '$\\land$' ou '$\\lor$' e liste os componentes de\n",
        "cada sentença. Em seguida, faça o mesmo para os componentes\n",
        "que você listou até chegar a letras sentenciais atômicas. Para que\n",
        "você possa ver como você deve apresentar suas respostas, eu fiz\n",
        "o primeiro problema para você. (3 pontos)\n",
        "\n",
        "- a) $\\neg(\\text{A} \\lor \\neg \\text{B})$\n",
        "\n",
        "| Sentença&nbsp;&nbsp;&nbsp;&nbsp;&nbsp;&nbsp; | Conectivo Principal | Componentes |\n",
        "|----------|---------------------|-------------|\n",
        "| $\\neg(\\text{A} \\lor \\neg \\text{B})$ | $\\neg$ | $\\text{A} \\lor \\neg \\text{B}$ |\n",
        "| $\\text{A} \\lor \\neg \\text{B}$ | $\\lor$ | $\\text{A}$, $\\neg\\text{B}$|\n",
        "| $\\neg B$ | $\\neg$ | $\\text{B}$|\n",
        "\n",
        "- b) $(\\text{D} \\land \\neg\\text{G}) \\lor (\\text{G} \\land \\text{D})$\n",
        "\n",
        "| Sentença&nbsp;&nbsp;&nbsp;&nbsp;&nbsp;&nbsp;&nbsp;&nbsp;&nbsp;&nbsp;&nbsp;&nbsp;&nbsp;&nbsp;&nbsp;&nbsp;&nbsp;&nbsp;&nbsp;&nbsp;&nbsp;&nbsp;&nbsp;&nbsp;&nbsp;&nbsp;&nbsp;&nbsp;&nbsp;&nbsp;&nbsp;&nbsp;| Conectivo Principal | Componentes&nbsp;&nbsp;&nbsp;&nbsp;&nbsp;&nbsp;&nbsp;&nbsp;&nbsp;&nbsp;&nbsp; |\n",
        "|----------|---------------------|-------------|\n",
        "| $(\\text{D} \\land \\neg \\text{G}) \\lor (\\text{G} \\land \\text{D}$) | $\\lor$ |  $\\text{D} \\land \\neg \\text{G}, \\text{G} \\land \\text{D}$ |\n",
        "| $\\text{D} \\land \\neg \\text{G}$ | $\\land$ | $\\text{D}$, $\\neg\\text{G}$|\n",
        "| $\\text{G} \\land \\text{D}$| $\\land$ | $\\text{G}, \\text{D}$  \n",
        "| $\\neg\\text{G}$ | $\\neg$ | $\\text{G}$|\n",
        "\n",
        "- c) $((\\text{D} \\lor \\neg\\neg\\text{B}) \\land (\\text{D} \\lor \\text{B})) \\land (\\text{D} \\lor \\text{B})$\n",
        "\n",
        "| Sentença&nbsp;&nbsp;&nbsp;&nbsp;&nbsp;&nbsp;&nbsp;&nbsp;&nbsp;&nbsp;&nbsp;&nbsp;&nbsp;&nbsp;&nbsp;&nbsp;&nbsp;&nbsp;&nbsp;&nbsp;&nbsp;&nbsp;&nbsp;&nbsp;&nbsp;&nbsp;&nbsp;&nbsp;&nbsp;&nbsp;&nbsp;&nbsp;&nbsp;&nbsp;&nbsp;&nbsp;&nbsp;&nbsp;&nbsp;&nbsp;&nbsp;&nbsp;&nbsp;&nbsp;&nbsp;&nbsp;&nbsp;&nbsp;&nbsp;&nbsp;&nbsp;&nbsp;&nbsp;&nbsp;&nbsp;&nbsp;&nbsp;&nbsp;&nbsp;&nbsp;&nbsp;&nbsp;&nbsp;&nbsp;&nbsp;&nbsp;&nbsp;| Conectivo Principal | Componentes&nbsp;&nbsp;&nbsp;&nbsp;&nbsp;&nbsp;&nbsp;&nbsp;&nbsp;&nbsp;&nbsp;&nbsp;&nbsp;&nbsp;&nbsp;&nbsp;&nbsp;&nbsp;&nbsp;&nbsp;&nbsp;&nbsp;&nbsp;&nbsp;&nbsp;&nbsp;&nbsp;&nbsp;&nbsp;&nbsp;&nbsp;&nbsp;&nbsp;&nbsp;&nbsp;&nbsp;&nbsp;&nbsp;&nbsp;&nbsp;&nbsp;&nbsp;&nbsp;&nbsp;|\n",
        "|----------|---------------------|-------------|\n",
        "|$((\\text{D} \\lor \\neg\\neg\\text{B}) \\land (\\text{D} \\lor \\text{B})) \\land (\\text{D} \\lor \\text{B})$ | $\\land$ | $(\\text{D} \\lor \\neg\\neg\\text{B}) \\land (\\text{D} \\lor \\text{B})$, $\\text{D} \\lor \\text{B}$|\n",
        "|$(\\text{D} \\lor \\neg\\neg\\text{B}) \\land (\\text{D} \\lor \\text{B})$ | $\\land$ | $\\text{D} \\lor \\neg\\neg\\text{B}, \\text{D} \\lor \\text{B}$\n",
        "|$\\text{D} \\lor \\neg\\neg\\text{B}$ | $\\lor $ | $\\text{D}, \\neg\\neg\\text{B}$ |\n",
        "|$\\text{D} \\lor \\text{B}$ | $\\lor$ | $\\text{D}, \\text{B}$ |\n",
        "|$\\neg\\neg\\text{B}$ | $\\neg$ | $\\neg\\text{B}$ |\n",
        "|$\\neg\\text{B}$| $\\neg$ | $\\text{B}$\n",
        "\n",
        "\n",
        "- d) $\\text{L} \\land (\\text{M} \\lor (\\neg \\text{N} \\land (\\text{M} \\lor \\neg\\text{L})))$\n",
        "\n",
        "| Sentença&nbsp;&nbsp;&nbsp;&nbsp;&nbsp;&nbsp;&nbsp;&nbsp;&nbsp;&nbsp;&nbsp;&nbsp;&nbsp;&nbsp;&nbsp;&nbsp;&nbsp;&nbsp;&nbsp;&nbsp;&nbsp;&nbsp;&nbsp;&nbsp;&nbsp;&nbsp;&nbsp;&nbsp;&nbsp;&nbsp;&nbsp;&nbsp;&nbsp;&nbsp;&nbsp;&nbsp;&nbsp;&nbsp;&nbsp;&nbsp;&nbsp;&nbsp;&nbsp;&nbsp;&nbsp;&nbsp;&nbsp;&nbsp;&nbsp;&nbsp;&nbsp;&nbsp;&nbsp;&nbsp;&nbsp;&nbsp;&nbsp;&nbsp;&nbsp;&nbsp;&nbsp;&nbsp;&nbsp;&nbsp;&nbsp;&nbsp;&nbsp;| Conectivo Principal | Componentes&nbsp;&nbsp;&nbsp;&nbsp;&nbsp;&nbsp;&nbsp;&nbsp;&nbsp;&nbsp;&nbsp;&nbsp;&nbsp;&nbsp;&nbsp;&nbsp;&nbsp;&nbsp;&nbsp;&nbsp;&nbsp;&nbsp;&nbsp;&nbsp;&nbsp;&nbsp;&nbsp;&nbsp;&nbsp;&nbsp;&nbsp;&nbsp;&nbsp;&nbsp;&nbsp;&nbsp;&nbsp;&nbsp;&nbsp;&nbsp;&nbsp;&nbsp;&nbsp;&nbsp;|\n",
        "|----------|---------------------|-------------|\n",
        "|$\\text{L} \\land (\\text{M} \\lor (\\neg\\text{N} \\land (\\text{M} \\lor \\neg\\text{L})))$ | $\\land$ | $\\text{L}, (\\text{M} \\lor (\\neg\\text{N} \\land (\\text{M} \\lor \\neg\\text{L})))$ |\n",
        "|$\\text{M} \\lor (\\neg\\text{N} \\land (\\text{M} \\lor \\neg\\text{L}))$ | $\\lor$ | $\\text{M}, (\\neg\\text{N} \\land (\\text{M} \\lor \\neg\\text{L}))$ |\n",
        "|$\\neg\\text{N} \\land (\\text{M} \\lor \\neg\\text{L})$ | $\\land$ | $\\neg\\text{N}, (\\text{M} \\lor \\neg\\text{L})$ |\n",
        "|$\\neg\\text{N}$ | $\\neg$ | $\\text{N}$ |\n",
        "|$\\text{M} \\lor \\neg\\text{L}$ | $\\lor$ | $\\text{M}, \\neg\\text{L}$ |\n",
        "|$\\neg\\text{L}$ | $\\neg$ | $\\text{L}$"
      ],
      "metadata": {
        "id": "HlNy7VTRdiOY"
      }
    },
    {
      "cell_type": "code",
      "source": [
        "# @title\n",
        "from IPython.display import display, Math\n",
        "\n",
        "# Código LaTeX para tabela verdade\n",
        "latex_code_1b = r\"\"\"\n",
        "\\textbf{Resposta Exercício 1 Letra b)}\\\\[1em]\n",
        "\\begin{array}{|c|c|c|c|c|c|}\n",
        "\\hline\n",
        "D & G & \\neg G & D \\lor \\neg G & G \\land D & (D \\lor \\neg G) \\lor (G \\land D) \\\\\n",
        "\\hline\n",
        "V & V & F & V & V & V \\\\\n",
        "V & F & V & V & F & V \\\\\n",
        "F & V & F & F & F & F \\\\\n",
        "F & F & V & V & F & V \\\\\n",
        "\\hline\n",
        "\\end{array}\n",
        "\"\"\"\n",
        "\n",
        "# Mostra a tabela usando display(Math)\n",
        "display(Math(latex_code_1b))\n"
      ],
      "metadata": {
        "colab": {
          "base_uri": "https://localhost:8080/",
          "height": 157
        },
        "id": "KrBz4deQatO0",
        "outputId": "2f4b219d-5315-4ab9-9483-73871d67a371",
        "cellView": "form"
      },
      "execution_count": null,
      "outputs": [
        {
          "output_type": "display_data",
          "data": {
            "text/plain": [
              "<IPython.core.display.Math object>"
            ],
            "text/latex": "$\\displaystyle \n\\textbf{Resposta exercício 1 letra b)}\\\\[1em]\n\\begin{array}{|c|c|c|c|c|c|}\n\\hline\nD & G & \\neg G & D \\lor \\neg G & G \\land D & (D \\lor \\neg G) \\lor (G \\land D) \\\\\n\\hline\nV & V & F & V & V & V \\\\\nV & F & V & V & F & V \\\\\nF & V & F & F & F & F \\\\\nF & F & V & V & F & V \\\\\n\\hline\n\\end{array}\n$"
          },
          "metadata": {}
        }
      ]
    },
    {
      "cell_type": "code",
      "source": [
        "# @title\n",
        "from IPython.display import display, Math\n",
        "\n",
        "# Código LaTeX para tabela verdade\n",
        "latex_code_1c = r\"\"\"\n",
        "\\textbf{Resposta Exercício 1 Letra c)}\\\\[1em]\n",
        "\\begin{array}{|c|c|c|c|c|c|c|}\n",
        "\\hline\n",
        "D & B & \\neg \\neg B & D \\lor \\neg \\neg B & D \\lor B & (D \\lor \\neg \\neg B) \\land (D \\lor B) & ((D \\lor \\neg \\neg B) \\land (D \\lor B)) \\land (D \\lor B) \\\\\n",
        "\\hline\n",
        "V & V & V & V & V & V & V \\\\\n",
        "V & F & F & V & V & V & V \\\\\n",
        "F & V & V & V & V & V & V \\\\\n",
        "F & F & F & F & F & F & F \\\\\n",
        "\\hline\n",
        "\\end{array}\n",
        "\"\"\"\n",
        "\n",
        "# Mostra a tabela usando display(Math)\n",
        "display(Math(latex_code_1c))"
      ],
      "metadata": {
        "colab": {
          "base_uri": "https://localhost:8080/",
          "height": 157
        },
        "id": "WDQCjxwQ3SVH",
        "outputId": "087ce74f-a2a6-43d9-b0de-fe5c946dddef",
        "cellView": "form"
      },
      "execution_count": null,
      "outputs": [
        {
          "output_type": "display_data",
          "data": {
            "text/plain": [
              "<IPython.core.display.Math object>"
            ],
            "text/latex": "$\\displaystyle \n\\textbf{Resposta Exercício 1 Letra c)}\\\\[1em]\n\\begin{array}{|c|c|c|c|c|c|c|}\n\\hline\nD & B & \\neg \\neg B & D \\lor \\neg \\neg B & D \\lor B & (D \\lor \\neg \\neg B) \\land (D \\lor B) & ((D \\lor \\neg \\neg B) \\land (D \\lor B)) \\land (D \\lor B) \\\\\n\\hline\nV & V & V & V & V & V & V \\\\\nV & F & F & V & V & V & V \\\\\nF & V & V & V & V & V & V \\\\\nF & F & F & F & F & F & F \\\\\n\\hline\n\\end{array}\n$"
          },
          "metadata": {}
        }
      ]
    },
    {
      "cell_type": "code",
      "source": [
        "from IPython.display import display, Math\n",
        "\n",
        "# Código LaTeX para tabela verdade\n",
        "latex_code_1d = r\"\"\"\n",
        "\\textbf{Resposta Exercício 1 Letra d)}\\\\[1em]\n",
        "\\begin{truthable}\n",
        "\\begin{tabular}{|c|c|c|c|c|c|c|c|c|}\n",
        "\\hline\n",
        "L & M & N & \\neg N & \\neg L & M \\lor \\neg L & \\neg L \\land (M \\lor \\neg L) & M \\lor (\\neg N \\land (M \\lor \\neg L)) & L \\land (M \\lor (\\neg N \\land (M \\lor \\neg L)))\n",
        "\\hline\n",
        "V & V & V & F & F & V & F & V & V \\\\\n",
        "V & V & F & V & F & V & V & V & V \\\\\n",
        "V & F & V & F & F & F & F & F & F \\\\\n",
        "V & F & F & V & V & F & F & F & F \\\\\n",
        "F & V & V & F & V & V & F & V & F \\\\\n",
        "F & V & F & V & V & V & V & V & F \\\\\n",
        "F & F & V & F & V & V & F & F & F \\\\\n",
        "F & F & F & V & V & V & V & V & F \\\\\n",
        "\\hline\n",
        "\\end{tabular}\n",
        "\\end{truthable}\n",
        "\"\"\"\n",
        "\n",
        "# Mostra a tabela usando display(Math)\n",
        "display(Math(latex_code_1d))\n",
        "\n",
        "# Professor, decidi deixar as respostas mesmo sabendo somente agora que não era isso o que foi pedido no exercício. Infelizmente acabei perdendo muito tempo nessa parte.\n",
        "# Aparentemente, as ferramentas do colab não permitem a programção em latex de 9 colunas, tentei usar outros comandos além do array e mesmo assim não funcionou.\n",
        "# Só assim percebi que não foi isso o que o senhor pediu no exercício e que, na verdade, era para usar as células de texto. A minha pressa em querer entregar o trabalho a tempo para o domingo me fez perder tempo, mas aprendi bastante coisa. (eu sou o aluno que faltou semana passada prque estava em viagem)\n",
        "# Mesmo assim decidi colocar a tabela a verdade no formato de latex em texto logo abaixo\n",
        "# Conclusão: ansiedade, prazo e programação não se combinam.\n",
        "# PS: Não tenho muita experência com programação, foram as IAs generativas que me ajudaram, mas aprendi cada linha. (a tabela verdade fiz a mão, Phind e o gpt do copilot na programação)"
      ],
      "metadata": {
        "colab": {
          "base_uri": "https://localhost:8080/",
          "height": 329
        },
        "id": "0ZOIqGP4-dyo",
        "outputId": "36bdadc3-f55b-4deb-d7a8-2eddbcd8d434",
        "cellView": "code"
      },
      "execution_count": null,
      "outputs": [
        {
          "output_type": "display_data",
          "data": {
            "text/plain": [
              "<IPython.core.display.Math object>"
            ],
            "text/latex": "$\\displaystyle \n\\textbf{Resposta Exercício 1 Letra d)}\\\\[1em]\n\\begin{truthable}\n\\begin{tabular}{|c|c|c|c|c|c|c|c|c|}\n\\hline\nL & M & N & \\neg N & \\neg L & M \\lor \\neg L & \\neg L \\land (M \\lor \\neg L) & M \\lor (\\neg N \\land (M \\lor \\neg L)) & L \\land (M \\lor (\\neg N \\land (M \\lor \\neg L)))\n\\hline\nV & V & V & F & F & V & F & V & V \\\\\nV & V & F & V & F & V & V & V & V \\\\\nV & F & V & F & F & F & F & F & F \\\\\nV & F & F & V & V & F & F & F & F \\\\\nF & V & V & F & V & V & F & V & F \\\\\nF & V & F & V & V & V & V & V & F \\\\\nF & F & V & F & V & V & F & F & F \\\\\nF & F & F & V & V & V & V & V & F \\\\\n\\hline\n\\end{tabular}\n\\end{truthable}\n$"
          },
          "metadata": {}
        }
      ]
    },
    {
      "cell_type": "markdown",
      "source": [
        "\\begin{array}{|c|c|c|c|c|c|c|c|c|}\n",
        "\\hline\n",
        "\\text{L} & \\text{M} & \\text{N} & \\neg \\text{N} & \\neg \\text{L} & \\text{M} \\lor \\neg \\text{L} & \\neg \\text{L} \\land (\\text{M} \\lor \\neg \\text{L}) & \\text{M} \\lor (\\neg \\text{N} \\land (\\text{M} \\lor \\neg \\text{L})) & \\text{L} \\land (\\text{M} \\lor (\\neg \\text{N} \\land (\\text{M} \\lor \\neg \\text{L}))) \\\\\n",
        "\\hline\n",
        "V & V & V & F & F & V & F & V & V \\\\\n",
        "V & V & F & V & F & V & V & V & V \\\\\n",
        "V & F & V & F & F & F & F & F & F \\\\\n",
        "V & F & F & V & V & F & F & F & F \\\\\n",
        "F & V & V & F & V & V & F & V & F \\\\\n",
        "F & V & F & V & V & V & V & V & F \\\\\n",
        "F & F & V & F & V & V & F & F & F \\\\\n",
        "F & F & F & V & V & V & V & V & F \\\\\n",
        "\\hline\n",
        "\\end{array}\n",
        "\"\"\""
      ],
      "metadata": {
        "id": "D5wDgmv0ZVje"
      }
    },
    {
      "cell_type": "markdown",
      "source": [],
      "metadata": {
        "id": "RK65ovMFiDYy"
      }
    },
    {
      "cell_type": "markdown",
      "source": [
        "(2-2.3-2.1) Sabendo que os valores-verdade das proposições p e q são respectivamente V e F, determine o valor lógico (V ou F) de cada uma das seguintes proposições: (o primeiro exercício está feito para você a fim de que você siga o mesmo modelo para responder os outros. Note que você deve fazer uma coluna na tabela para cada constituinte da fórmula, observando o conectivo principal, o exercício anterior vai lhe ajudar a identificar as colunas necessárias.) (5 pontos)"
      ],
      "metadata": {
        "id": "kETZNO05wKDb"
      }
    },
    {
      "cell_type": "markdown",
      "source": [
        "a) $\\text{p} \\land \\neg\\text{q}$\n",
        "\n",
        "\n",
        "| $\\text{p}$ | $\\text{q}$ | $\\neg\\text{q}$ | $\\text{p} \\land \\neg\\text{q}$ |\n",
        "|------------|------------|----------------|-------------------------------|\n",
        "|     V      |      F     |       V        |               V&nbsp;&nbsp;&nbsp;&nbsp;&nbsp;&nbsp;&nbsp;&nbsp;&nbsp;&nbsp;&nbsp;&nbsp;&nbsp;&nbsp; <!-- os &nbsp; são só uma gambiarra para alargar as colunas e não quebrar as fórmulas, só precisa colocar em uma linha. Isso é um comentário que não aparece no texto bonito --> |\n"
      ],
      "metadata": {
        "id": "r7tAvaWAwyA_"
      }
    },
    {
      "cell_type": "markdown",
      "source": [
        "b) $\\text{p} \\lor \\neg\\text{q}$\n",
        "\n",
        "| $\\text{p}$ | $\\text{q}$ | $\\neg\\text{q}$ | $\\text{p} \\lor \\neg\\text{q}$ |\n",
        "|------------|------------|----------------|-------------------------------|\n",
        "|     V      |      F     |       V        |               V&nbsp;&nbsp;&nbsp;&nbsp;&nbsp;&nbsp;&nbsp;&nbsp;&nbsp;&nbsp;&nbsp;&nbsp;&nbsp;&nbsp;"
      ],
      "metadata": {
        "id": "mEmvSyjD0YD-"
      }
    },
    {
      "cell_type": "markdown",
      "source": [
        "c) $\\neg\\text{p} \\lor \\text{q}$\n",
        "\n",
        "| $\\text{p}$ | $\\neg\\text{p}$ | $\\text{q}$ | $\\neg\\text{p} \\lor \\text{q}$ |\n",
        "|------------|------------|----------------|-------------------------------|\n",
        "|     V      |      F     |       F        |               F&nbsp;&nbsp;&nbsp;&nbsp;&nbsp;&nbsp;&nbsp;&nbsp;&nbsp;&nbsp;&nbsp;&nbsp;&nbsp;&nbsp;"
      ],
      "metadata": {
        "id": "CSvX9FxU00eP"
      }
    },
    {
      "cell_type": "markdown",
      "source": [
        "d) $\\neg\\text{p} \\land \\neg\\text{q}$\n",
        "\n",
        "| $\\text{p}$ | $\\neg\\text{p}$ | $\\text{q}$ |$\\neg\\text{q}$| $\\neg\\text{p} \\land \\neg\\text{q}$ |\n",
        "|------------|------------|----------------|-----------------------|----------------|\n",
        "|     V      |      F     |       F        |       V     |        F&nbsp;&nbsp;&nbsp;&nbsp;&nbsp;&nbsp;&nbsp;&nbsp;&nbsp;&nbsp;&nbsp;&nbsp;&nbsp;&nbsp;&nbsp;&nbsp;"
      ],
      "metadata": {
        "id": "c0dpvKOF1Bzk"
      }
    },
    {
      "cell_type": "markdown",
      "source": [
        "e) $\\neg\\text{p} \\lor \\neg\\text{q}$\n",
        "\n",
        "| $\\text{p}$ | $\\neg\\text{p}$ | $\\text{q}$ |$\\neg\\text{q}$| $\\neg\\text{p} \\lor \\neg\\text{q}$ |\n",
        "|------------|------------|----------------|-----------------------|----------------|\n",
        "|     V      |      F     |       F        |       V     |        V&nbsp;&nbsp;&nbsp;&nbsp;&nbsp;&nbsp;&nbsp;&nbsp;&nbsp;&nbsp;&nbsp;&nbsp;&nbsp;&nbsp;&nbsp;&nbsp;"
      ],
      "metadata": {
        "id": "nkpl5jdp1TCH"
      }
    },
    {
      "cell_type": "markdown",
      "source": [
        "f) $\\text{p} \\land (\\neg\\text{p} \\lor \\text{q})$\n",
        "\n",
        "| $\\text{p}$ | $\\neg\\text{p}$ | $\\text{q}$ |$\\neg\\text{p} \\lor \\text{q}$| $\\text{p} \\land (\\neg\\text{p} \\lor \\text{q})$ |\n",
        "|------------|------------|----------------|--------|----------------|\n",
        "|     V      |      F     |       F      |       F&nbsp;&nbsp;&nbsp;&nbsp;&nbsp;&nbsp;&nbsp;&nbsp;&nbsp;&nbsp;&nbsp;&nbsp;&nbsp;&nbsp;     |        F&nbsp;&nbsp;&nbsp;&nbsp;&nbsp;&nbsp;&nbsp;&nbsp;&nbsp;&nbsp;&nbsp;&nbsp;&nbsp;&nbsp;&nbsp;&nbsp;&nbsp;&nbsp;&nbsp;&nbsp;&nbsp;&nbsp;&nbsp;&nbsp;&nbsp;&nbsp;"
      ],
      "metadata": {
        "id": "OT01Nplw1ZYj"
      }
    },
    {
      "cell_type": "markdown",
      "source": [
        "***"
      ],
      "metadata": {
        "id": "_bBIQZ-T2GDM"
      }
    },
    {
      "cell_type": "markdown",
      "source": [
        "(2-2.3-2.4) Construa as tabelas-verdade das seguintes fórmulas e identifique as que são tautologias ou contradições. (Lembrete: numa tautologia todos os casos são V; numa contradição todos os casos são F. O primeiro está feito para você usar como modelo de resposta para os demais. Dica: você precisa conhecer a tabela-verdade dos conectivos). (12 pontos)"
      ],
      "metadata": {
        "id": "SfUVmLGJ2Vim"
      }
    },
    {
      "cell_type": "markdown",
      "source": [
        "a) $\\neg(\\text{p} \\lor \\neg \\text{q})$\n",
        "\n",
        "| $\\text{p}$ | $\\text{q}$ | $\\neg\\text{q}$ | $\\text{p} \\lor \\neg \\text{q}$ | $\\neg(\\text{p} \\lor \\neg \\text{q})$|\n",
        "|------------|------------|----------------|-------------------------------|------------------------------------|\n",
        "V | V | F | V &nbsp;&nbsp;&nbsp;&nbsp;&nbsp;&nbsp;&nbsp;&nbsp;&nbsp;&nbsp;&nbsp;&nbsp;&nbsp;| F &nbsp;&nbsp;&nbsp;&nbsp;&nbsp;&nbsp;&nbsp;&nbsp;&nbsp;&nbsp;&nbsp;&nbsp;&nbsp;&nbsp;&nbsp;&nbsp;&nbsp;&nbsp;&nbsp;| <!-- os &nbsp; são só uma gambiarra para alargar as colunas e não quebrar as fórmulas, só precisa colocar em uma linha -->\n",
        "V | F | V | V | F |\n",
        "F | V | F | F | V |\n",
        "F | F | V | V | F |\n",
        "\n",
        "**Conclusão**: Como temos casos F e casos V, a fórmula não é nem uma tautologia nem uma contradição.\n"
      ],
      "metadata": {
        "id": "faNqDaX028ZY"
      }
    },
    {
      "cell_type": "markdown",
      "source": [
        "b) $\\neg(\\text{p} \\rightarrow \\neg \\text{q})$\n",
        "\n",
        "| $\\text{p}$ | $\\text{q}$ | $\\neg\\text{q}$ | $\\text{p} \\rightarrow \\neg \\text{q}$ | $\\neg(\\text{p} \\lor \\neg \\text{q})$|\n",
        "|------------|------------|----------------|-------------------------------|------------------------------------|\n",
        "V | V | F | F &nbsp;&nbsp;&nbsp;&nbsp;&nbsp;&nbsp;&nbsp;&nbsp;&nbsp;&nbsp;&nbsp;&nbsp;&nbsp;&nbsp;&nbsp;&nbsp;| V &nbsp;&nbsp;&nbsp;&nbsp;&nbsp;&nbsp;&nbsp;&nbsp;&nbsp;&nbsp;&nbsp;&nbsp;&nbsp;&nbsp;&nbsp;&nbsp;&nbsp;&nbsp;&nbsp;|\n",
        "V | F | V | V | F |\n",
        "F | V | F | V | F |\n",
        "F | F | V | V | F |\n",
        "\n",
        "**Conclusão**: Como temos casos F e casos V, a fórmula não é nem uma tautologia nem uma contradição."
      ],
      "metadata": {
        "id": "sSs31mt--ezl"
      }
    },
    {
      "cell_type": "markdown",
      "source": [
        "c) $(\\text{p} \\land \\text{q}) \\rightarrow (\\text{p} \\lor \\text{q})$\n",
        "\n",
        "| $\\text{p}$ | $\\text{q}$ | $\\text{p} \\land \\text{q}$ | $\\text{p} \\lor \\text{q}$| $(\\text{p} \\land \\text{q}) \\rightarrow (\\text{p} \\lor \\text{q})$|\n",
        "|------------|------------|----------------|-------------------------------|------------------------------------|\n",
        "V | V | V | V &nbsp;&nbsp;&nbsp;&nbsp;&nbsp;&nbsp;&nbsp;&nbsp;&nbsp;&nbsp;&nbsp;&nbsp;&nbsp;&nbsp;&nbsp;&nbsp;| V &nbsp;&nbsp;&nbsp;&nbsp;&nbsp;&nbsp;&nbsp;&nbsp;&nbsp;&nbsp;&nbsp;&nbsp;&nbsp;&nbsp;&nbsp;&nbsp;&nbsp;&nbsp;&nbsp;&nbsp;&nbsp;&nbsp;&nbsp;&nbsp;&nbsp;&nbsp;&nbsp;&nbsp;&nbsp;&nbsp;&nbsp;&nbsp;&nbsp;&nbsp;|\n",
        "V | F | F | V | V |\n",
        "F | V | F | V | V |\n",
        "F | F | F | F | V |\n",
        "\n",
        "**Conclusão**: Como temos somente casos V, a fórmula é uma tautologia."
      ],
      "metadata": {
        "id": "A6Gkj2rQ_CEy"
      }
    },
    {
      "cell_type": "markdown",
      "source": [
        "d) $\\neg\\text{p} \\rightarrow (\\text{q} \\rightarrow \\text{p})$\n",
        "\n",
        "| $\\text{q}$ | $\\text{p}$ | $\\text{q} \\rightarrow \\text{p}$ | $\\neg\\text{p}$ | $\\neg\\text{p} \\rightarrow (\\text{q} \\rightarrow \\text{p})$|\n",
        "|------------|------------|----------------|-------------------------------|------------------------------------|\n",
        "V | V | V | F | V &nbsp;&nbsp;&nbsp;&nbsp;&nbsp;&nbsp;&nbsp;&nbsp;&nbsp;&nbsp;&nbsp;&nbsp;&nbsp;&nbsp;&nbsp;&nbsp;&nbsp;&nbsp;&nbsp;&nbsp;&nbsp;&nbsp;&nbsp;&nbsp;&nbsp;&nbsp;&nbsp;&nbsp;| <!-- os &nbsp; são só uma gambiarra para alargar as colunas e não quebrar as fórmulas, só precisa colocar em uma linha -->\n",
        "V | F | F | V | F |\n",
        "F | V | V | F | V |\n",
        "F | F | V | V | V |\n",
        "\n",
        "**Conclusão**: Como temos um caso F e casos V, a fórmula não é nem uma tautologia nem uma contradição."
      ],
      "metadata": {
        "id": "VX5jWR2sAr7R"
      }
    },
    {
      "cell_type": "markdown",
      "source": [
        "e) $(\\text{p} \\rightarrow \\text{q}) \\rightarrow (\\text{p} \\land \\text{q})$\n",
        "\n",
        "| $\\text{p}$ | $\\text{q}$ | $\\text{p} \\rightarrow \\text{q}$ | $\\text{p} \\land \\text{q}$ | $(\\text{p} \\rightarrow \\text{q}) \\rightarrow (\\text{p} \\land \\text{q})$|\n",
        "|------------|------------|----------------|-------------------------------|------------------------------------|\n",
        "V | V | V | V | V &nbsp;&nbsp;&nbsp;&nbsp;&nbsp;&nbsp;&nbsp;&nbsp;&nbsp;&nbsp;&nbsp;&nbsp;&nbsp;&nbsp;&nbsp;&nbsp;&nbsp;&nbsp;&nbsp;&nbsp;&nbsp;&nbsp;&nbsp;&nbsp;&nbsp;&nbsp;&nbsp;&nbsp;&nbsp;&nbsp;&nbsp;&nbsp;&nbsp;&nbsp;&nbsp;&nbsp;&nbsp;&nbsp;|\n",
        "V | F | F | F | V |\n",
        "F | V | V | F | F |\n",
        "F | F | V | F | F |\n",
        "\n",
        "**Conclusão**: Como temos casos F e casos V, a fórmula não é nem uma tautologia nem uma contradição."
      ],
      "metadata": {
        "id": "Fgq4YXm0BG7j"
      }
    },
    {
      "cell_type": "markdown",
      "source": [
        "f) $\\text{q} \\leftrightarrow (\\neg \\text{q} \\land \\text{p})$\n",
        "\n",
        "| $\\text{q}$ | $\\text{p}$ | $\\neg\\text{q}$ | $\\neg \\text{q} \\land \\text{p}$ | $\\text{q} \\leftrightarrow (\\neg \\text{q} \\land \\text{p})$|\n",
        "|------------|------------|----------------|-------------------------------|------------------------------------|\n",
        "V | V | F | F &nbsp;&nbsp;&nbsp;&nbsp;&nbsp;&nbsp;&nbsp;&nbsp;&nbsp;&nbsp;&nbsp;&nbsp; | F &nbsp;&nbsp;&nbsp;&nbsp;&nbsp;&nbsp;&nbsp;&nbsp;&nbsp;&nbsp;&nbsp;&nbsp;&nbsp;&nbsp;&nbsp;&nbsp;&nbsp;&nbsp;&nbsp;&nbsp;&nbsp;&nbsp;&nbsp;&nbsp;&nbsp;&nbsp;&nbsp;&nbsp;&nbsp;&nbsp;&nbsp;&nbsp;&nbsp;&nbsp;&nbsp;&nbsp;&nbsp;&nbsp;|\n",
        "V | F | F | F | F |\n",
        "F | V | V | V | F |\n",
        "F | F | V | F | V |\n",
        "\n",
        "**Conclusão**: Como temos casos F e casos V, a fórmula não é nem uma tautologia nem uma contradição."
      ],
      "metadata": {
        "id": "5EDHp39XCXnI"
      }
    },
    {
      "cell_type": "markdown",
      "source": [
        "g) $\\text{p} \\rightarrow (\\text{q} \\rightarrow (\\text{q} \\rightarrow \\text{p}))$\n",
        "\n",
        "| $\\text{q}$ | $\\text{p}$ | $\\text{q} \\rightarrow \\text{p}$ | $\\text{q} \\rightarrow (\\text{q} \\rightarrow \\text{p})$| $\\text{p} \\rightarrow (\\text{q} \\rightarrow (\\text{q} \\rightarrow \\text{p}))$ |\n",
        "|------------|------------|---------------------------------|--------------------------------------------|-|\n",
        "V | V | V | V &nbsp;&nbsp;&nbsp;&nbsp;&nbsp;&nbsp;&nbsp;&nbsp;&nbsp;&nbsp;&nbsp;&nbsp;&nbsp;&nbsp;&nbsp;&nbsp;&nbsp;&nbsp;&nbsp;&nbsp;&nbsp;&nbsp;&nbsp;&nbsp;&nbsp; | V &nbsp;&nbsp;&nbsp;&nbsp;&nbsp;&nbsp;&nbsp;&nbsp;&nbsp;&nbsp;&nbsp;&nbsp;&nbsp;&nbsp;&nbsp;&nbsp;&nbsp;&nbsp;&nbsp;&nbsp;&nbsp;&nbsp;&nbsp;&nbsp;&nbsp;&nbsp;&nbsp;&nbsp;&nbsp;&nbsp;&nbsp;&nbsp;&nbsp;&nbsp;&nbsp;&nbsp;&nbsp;&nbsp;|\n",
        "V | F | F | F | F |\n",
        "F | V | V | V | V |\n",
        "F | F | V | V | V |\n",
        "\n",
        "**Conclusão**: Como temos casos F e casos V, a fórmula não é nem uma tautologia nem uma contradição."
      ],
      "metadata": {
        "id": "fraSgT4xCubQ"
      }
    },
    {
      "cell_type": "markdown",
      "source": [
        "h) $\\neg(\\text{p} \\rightarrow (\\neg \\text{p} \\rightarrow \\text{q}))$\n",
        "\n",
        "| $\\text{p}$ | $\\text{q}$ | $\\neg\\text{p}$ | $\\neg \\text{p} \\rightarrow \\text{q}$ | $\\text{p} \\rightarrow (\\neg \\text{p} \\rightarrow \\text{q})$ | $\\neg(\\text{p} \\rightarrow (\\neg \\text{p} \\rightarrow \\text{q}))$ |\n",
        "|------------|------------|---------------------------------|--------------------------------------------|-|-|\n",
        "V | V | F | V &nbsp;&nbsp;&nbsp;&nbsp;&nbsp;&nbsp;&nbsp;&nbsp;&nbsp;&nbsp;&nbsp;&nbsp;&nbsp;&nbsp; | V &nbsp;&nbsp;&nbsp;&nbsp;&nbsp;&nbsp;&nbsp;&nbsp;&nbsp;&nbsp;&nbsp;&nbsp;&nbsp;&nbsp;&nbsp;&nbsp;&nbsp;&nbsp;&nbsp;&nbsp;&nbsp;&nbsp;&nbsp;&nbsp;&nbsp;&nbsp;&nbsp;&nbsp;| F &nbsp;&nbsp;&nbsp;&nbsp;&nbsp;&nbsp;&nbsp;&nbsp;&nbsp;&nbsp;&nbsp;&nbsp;&nbsp;&nbsp;&nbsp;&nbsp;&nbsp;&nbsp;&nbsp;&nbsp;&nbsp;&nbsp;&nbsp;&nbsp;&nbsp;&nbsp;&nbsp;&nbsp;&nbsp;&nbsp;&nbsp;&nbsp; |\n",
        "V | F | F | V | V | F |\n",
        "F | V | V | V | V | F |\n",
        "F | F | V | F | V | F |\n",
        "\n",
        "**Conclusão**: Como temos somente casos F, a fórmula é uma contradição."
      ],
      "metadata": {
        "id": "oSCmdLi5DR3C"
      }
    },
    {
      "cell_type": "markdown",
      "source": [
        "i) $(\\text{p} \\land \\text{q}) \\rightarrow (\\text{p} \\leftrightarrow (\\text{q} \\lor \\text{r}))$\n",
        "\n",
        "| $\\text{p}$ | $\\text{q}$ | $\\text{r}$ | $\\text{q} \\lor \\text{r}$ | $\\text{p} \\leftrightarrow (\\text{q} \\lor \\text{r})$ | $\\text{p} \\land \\text{q}$ | $(\\text{p} \\land \\text{q}) \\rightarrow (\\text{p} \\leftrightarrow (\\text{q} \\lor \\text{r}))$ |\n",
        "|------------|------------|---------------------------------|--------------------------------------------|-|-|-|\n",
        "V | V | V | V &nbsp;&nbsp; | V &nbsp;&nbsp;&nbsp;&nbsp;&nbsp;&nbsp;&nbsp;&nbsp;&nbsp;&nbsp;&nbsp;&nbsp;&nbsp;&nbsp;&nbsp;&nbsp;&nbsp;&nbsp;&nbsp;&nbsp;&nbsp;&nbsp;| V &nbsp;&nbsp;&nbsp;&nbsp;&nbsp;&nbsp;&nbsp;&nbsp; | V &nbsp;&nbsp;&nbsp;&nbsp;&nbsp;&nbsp;&nbsp;&nbsp;&nbsp;&nbsp;&nbsp;&nbsp;&nbsp;&nbsp;&nbsp;&nbsp;&nbsp;&nbsp;&nbsp;&nbsp;&nbsp;&nbsp;&nbsp;&nbsp;&nbsp;&nbsp;&nbsp;&nbsp;&nbsp;&nbsp;&nbsp;&nbsp;&nbsp;&nbsp;&nbsp;&nbsp;&nbsp;&nbsp;&nbsp;&nbsp;&nbsp;&nbsp;&nbsp;&nbsp;&nbsp;&nbsp;&nbsp;&nbsp; |\n",
        "V | V | F | V | V | V | V |\n",
        "V | F | V | V | V | F | V |\n",
        "V | F | F | F | F | F | V |\n",
        "F | V | V | V | F | F | V |\n",
        "F | V | F | V | F | F | V |\n",
        "F | F | V | V | F | F | V |\n",
        "F | F | F | F | V | F | V |\n",
        "\n",
        "**Conclusão**: Como temos somente casos V, a fórmula é uma tautologia."
      ],
      "metadata": {
        "id": "Np5tnihcDnDp"
      }
    },
    {
      "cell_type": "markdown",
      "source": [
        "j) $(\\lnot\\text{p} \\land \\text{r}) \\rightarrow (\\text{q} \\lor \\neg\\text{r})$\n",
        "\n",
        "| $\\text{p}$ | $\\text{r}$ | $\\text{q}$ | $\\neg\\text{p}$ | $\\neg\\text{r}$ | $¬\\text{p} \\land \\text{q}$ | $\\text{q} \\lor \\neg\\text{r}$ | $(\\lnot\\text{p} \\land \\text{r}) \\rightarrow (\\text{q} \\lor \\neg\\text{r})$ |\n",
        "|------------|------------|---------------------------------|--------------------------------------------|-|-|-|-|\n",
        "V | V | V | F | F | F &nbsp;&nbsp;&nbsp;&nbsp;&nbsp;&nbsp;&nbsp;&nbsp;&nbsp;&nbsp;&nbsp;&nbsp; | V &nbsp;&nbsp;&nbsp;&nbsp;&nbsp;&nbsp;&nbsp;&nbsp;&nbsp;&nbsp;&nbsp; | V &nbsp;&nbsp;&nbsp;&nbsp;&nbsp;&nbsp;&nbsp;&nbsp;&nbsp;&nbsp;&nbsp;&nbsp;&nbsp;&nbsp;&nbsp;&nbsp;&nbsp;&nbsp;&nbsp;&nbsp;&nbsp;&nbsp;&nbsp;&nbsp;&nbsp;&nbsp;&nbsp;&nbsp;&nbsp;&nbsp;&nbsp;&nbsp;&nbsp;&nbsp;&nbsp;&nbsp;&nbsp;&nbsp;&nbsp;&nbsp; |\n",
        "V | V | F | F | F | F | F | V |\n",
        "V | F | V | F | V | F | V | V |\n",
        "V | F | F | F | V | F | V | V |\n",
        "F | V | V | V | F | V | V | V |\n",
        "F | V | F | V | F | F | F | F |\n",
        "F | F | V | V | V | V | V | V |\n",
        "F | F | F | V | V | F | V | V |\n",
        "\n",
        "**Conclusão**: Como temos somente casos V, a fórmula é uma tautologia."
      ],
      "metadata": {
        "id": "pjy-xsRtFPjZ"
      }
    },
    {
      "cell_type": "markdown",
      "source": [
        "k) $(\\text{p} \\rightarrow \\text{r}) \\leftrightarrow (\\text{q} \\lor \\neg\\text{r})$\n",
        "\n",
        "| $\\text{p}$ | $\\text{r}$ | $\\text{q}$ | $\\neg\\text{r}$ | $\\text{p} \\rightarrow \\text{r}$ | $\\text{q} \\lor \\neg\\text{r}$ |  $(\\text{p} \\rightarrow \\text{r}) \\leftrightarrow (\\text{q} \\lor \\neg\\text{r})$ |\n",
        "|------------|------------|---------------------------------|--------------------------------------------|-|-|-|\n",
        "V | V | V | F | V | V &nbsp;&nbsp;&nbsp;&nbsp;&nbsp;&nbsp;&nbsp;&nbsp;&nbsp;&nbsp;&nbsp; | V &nbsp;&nbsp;&nbsp;&nbsp;&nbsp;&nbsp;&nbsp;&nbsp;&nbsp;&nbsp;&nbsp;&nbsp;&nbsp;&nbsp;&nbsp;&nbsp;&nbsp;&nbsp;&nbsp;&nbsp;&nbsp;&nbsp;&nbsp;&nbsp;&nbsp;&nbsp;&nbsp;&nbsp;&nbsp;&nbsp;&nbsp;&nbsp;&nbsp;&nbsp;&nbsp;&nbsp;&nbsp;&nbsp; |\n",
        "V | V | F | F | V | F | F |\n",
        "V | F | V | V | F | V | F |\n",
        "V | F | F | V | F | V | F |\n",
        "F | V | V | F | V | V | V |\n",
        "F | V | F | F | V | F | F |\n",
        "F | F | V | V | V | V | V |\n",
        "F | F | F | V | V | V | V |\n",
        "\n",
        "**Conclusão**: Como temos casos F e casos V, a fórmula não é nem uma tautologia nem uma contradição."
      ],
      "metadata": {
        "id": "K8anE6bzFxGy"
      }
    },
    {
      "cell_type": "markdown",
      "source": [
        "l) $(\\text{p} \\rightarrow (\\text{p} \\rightarrow \\neg \\text{r})) \\leftrightarrow (\\text{q} \\lor \\text{r})$\n",
        "\n",
        "| $\\text{p}$ | $\\text{q}$ | $\\text{r}$ | $\\neg\\text{r}$ | $\\text{p} \\rightarrow \\neg \\text{r}$ | $\\text{p} \\rightarrow (\\text{p} \\rightarrow \\neg \\text{r})$ | $\\text{q} \\lor \\text{r}$ | $(\\text{p} \\rightarrow (\\text{p} \\rightarrow \\neg \\text{r})) \\leftrightarrow (\\text{q} \\lor \\text{r})$ |\n",
        "|------------|------------|---------------------------------|--------------------------------------------|-|-|-|-|\n",
        "V | V | V | F | F &nbsp;&nbsp;&nbsp;&nbsp;&nbsp;&nbsp;&nbsp;&nbsp;&nbsp;&nbsp;&nbsp;&nbsp;&nbsp;&nbsp; | F &nbsp;&nbsp;&nbsp;&nbsp;&nbsp;&nbsp;&nbsp;&nbsp;&nbsp;&nbsp;&nbsp;&nbsp;&nbsp;&nbsp;&nbsp;&nbsp;&nbsp;&nbsp;&nbsp;&nbsp;&nbsp;&nbsp;&nbsp;&nbsp;&nbsp;&nbsp;&nbsp; | V &nbsp;&nbsp;&nbsp;&nbsp;&nbsp;&nbsp; | F &nbsp;&nbsp;&nbsp;&nbsp;&nbsp;&nbsp;&nbsp;&nbsp;&nbsp;&nbsp;&nbsp;&nbsp;&nbsp;&nbsp;&nbsp;&nbsp;&nbsp;&nbsp;&nbsp;&nbsp;&nbsp;&nbsp;&nbsp;&nbsp;&nbsp;&nbsp;&nbsp;&nbsp;&nbsp;&nbsp;&nbsp;&nbsp;&nbsp;&nbsp;&nbsp;&nbsp;&nbsp;&nbsp;&nbsp;&nbsp;&nbsp;&nbsp;&nbsp;&nbsp;&nbsp;&nbsp;&nbsp;&nbsp;&nbsp;&nbsp;&nbsp;&nbsp;&nbsp; |\n",
        "V | V | F | V | V | V | V | V |\n",
        "V | F | V | F | F | F | V | F |\n",
        "V | F | F | V | V | V | F | F |\n",
        "F | V | V | F | V | V | V | V |\n",
        "F | V | F | V | V | V | V | V |\n",
        "F | F | V | F | V | V | V | V |\n",
        "F | F | F | V | V | V | F | F |\n",
        "\n",
        "**Conclusão**: Como temos casos F e casos V, a fórmula não é nem uma tautologia nem uma contradição."
      ],
      "metadata": {
        "id": "ZNK5jm_XGU4-"
      }
    },
    {
      "cell_type": "markdown",
      "source": [
        "m) $((\\text{p} \\land \\text{q}) \\rightarrow \\text{r}) \\lor (\\neg \\text{p} \\leftrightarrow (\\text{q} \\lor \\neg\\text{r}))$\n",
        "\n",
        "| $\\text{p}$ | $\\text{q}$ | $\\text{r}$ | $\\neg\\text{p}$ | $\\neg\\text{r}$ | $\\text{p} \\land \\text{q}$ | $(\\text{p} \\land \\text{q}) \\rightarrow \\text{r}$ | $\\text{q} \\lor \\neg\\text{r}$ | $\\neg \\text{p} \\leftrightarrow (\\text{q} \\lor \\neg\\text{r})$ | $((\\text{p} \\land \\text{q}) \\rightarrow \\text{r}) \\lor (\\neg \\text{p} \\leftrightarrow (\\text{q} \\lor \\neg\\text{r}))$ |\n",
        "|------------|------------|---------------------------------|--------------------------------------------|-|-|-|-|-|-|\n",
        "V | V | V | F | F | V | V &nbsp;&nbsp;&nbsp;&nbsp;&nbsp;&nbsp;&nbsp;&nbsp;&nbsp;&nbsp;&nbsp;&nbsp;&nbsp;&nbsp;&nbsp;&nbsp;&nbsp;&nbsp;&nbsp;&nbsp;&nbsp;&nbsp; | V &nbsp;&nbsp;&nbsp;&nbsp;&nbsp;&nbsp;&nbsp;&nbsp;&nbsp;&nbsp;&nbsp; | F &nbsp;&nbsp;&nbsp;&nbsp;&nbsp;&nbsp;&nbsp;&nbsp;&nbsp;&nbsp;&nbsp;&nbsp;&nbsp;&nbsp;&nbsp;&nbsp;&nbsp;&nbsp;&nbsp;&nbsp;&nbsp;&nbsp;&nbsp;&nbsp;&nbsp;&nbsp;&nbsp;&nbsp;&nbsp; | V &nbsp;&nbsp;&nbsp;&nbsp;&nbsp;&nbsp;&nbsp;&nbsp;&nbsp;&nbsp;&nbsp;&nbsp;&nbsp;&nbsp;&nbsp;&nbsp;&nbsp;&nbsp;&nbsp;&nbsp;&nbsp;&nbsp;&nbsp;&nbsp;&nbsp;&nbsp;&nbsp;&nbsp;&nbsp;&nbsp;&nbsp;&nbsp;&nbsp;&nbsp;&nbsp;&nbsp;&nbsp;&nbsp;&nbsp;&nbsp;&nbsp;&nbsp;&nbsp;&nbsp;&nbsp;&nbsp;&nbsp;&nbsp;&nbsp;&nbsp;&nbsp;&nbsp;&nbsp;&nbsp;&nbsp;&nbsp;&nbsp;&nbsp;&nbsp;&nbsp;&nbsp;&nbsp;&nbsp;&nbsp;&nbsp; |\n",
        "V | V | F | F | V | V | F | V | F | F |\n",
        "V | F | V | F | F | F | V | F | V | V |\n",
        "V | F | F | F | V | F | V | V | F | V |\n",
        "F | V | V | V | F | F | V | V | V | V |\n",
        "F | V | F | V | V | F | V | V | V | V |\n",
        "F | F | V | V | F | F | V | F | F | V |\n",
        "F | F | F | V | V | F | V | V | V | V |\n"
      ],
      "metadata": {
        "id": "xhKrgMysGvKA"
      }
    },
    {
      "cell_type": "markdown",
      "source": [
        "***"
      ],
      "metadata": {
        "id": "S_UxMFcIIEIG"
      }
    },
    {
      "cell_type": "markdown",
      "source": [
        "(2-2.3-2.7) Prove, usando tabela-verdade, as seguintes equivalências. (as duas primeiras estão feitas para você usar como modelo para as demais): (9 pontos)"
      ],
      "metadata": {
        "id": "8Aybna-xIFAm"
      }
    },
    {
      "cell_type": "markdown",
      "source": [
        "a) *Idempotência*\n",
        "\n",
        "$\\text{p} \\land \\text{p} \\Leftrightarrow \\text{p}$\n",
        "\n",
        "| $\\text{p}$ | $\\text{p} \\land \\text{p}$ |\n",
        "|------------|---------------------------|\n",
        "| V | V\n",
        "| F | F\n",
        "\n",
        "**Conclusão**: Como para todos os casos o valor-verdade da primeira coluna (fórmula à direita da $\\Leftrightarrow$) é o mesmo da segunda coluna (fórmula à esquerda da $\\Leftrightarrow$), as fórmulas são de fato equivalentes.\n",
        "\n",
        "$\\text{p} \\lor \\text{p} \\Leftrightarrow \\text{p}$\n",
        "\n",
        "| $\\text{p}$ | $\\text{p} \\lor \\text{p}$ |\n",
        "|------------|---------------------------|\n",
        "| V | V\n",
        "| F | F\n",
        "\n",
        "**Conclusão**: Como para todos os casos o valor-verdade da primeira coluna (fórmula à direita da $\\Leftrightarrow$) é o mesmo da segunda coluna (fórmula à esquerda da $\\Leftrightarrow$), as fórmulas são de fato equivalentes.\n"
      ],
      "metadata": {
        "id": "I6Dlkm40ImoW"
      }
    },
    {
      "cell_type": "markdown",
      "source": [
        "b) *Comutativa*\n",
        "\n",
        "$(\\text{p} \\land \\text{q}) \\Leftrightarrow (\\text{q} \\land \\text{p})$\n",
        "\n",
        "| $\\text{p}$ | $\\text{q}$ | $\\color{red}{\\text{p} \\land \\text{q}}$ | $\\color{red}{\\text{q} \\land \\text{p}}$ |\n",
        "|------------|------------|---------------|------|\n",
        "| V | V | V | V |\n",
        "| V | F | F | F |\n",
        "| F | V | F | F |\n",
        "| F | F | F | F |\n",
        "\n",
        "**Conclusão**: Como para todos os casos o valor-verdade da primeira coluna vermelha (fórmula à esquerda da $\\Leftrightarrow$) é o mesmo da segunda coluna vermelha (fórmula à direita da $\\Leftrightarrow$), as fórmulas são de fato equivalentes.\n"
      ],
      "metadata": {
        "id": "Dzo4_LKhMBvJ"
      }
    },
    {
      "cell_type": "markdown",
      "source": [
        "c) *Associativa*\n",
        "\n",
        "$\\text{p} \\land (\\text{q} \\land \\text{r}) \\Leftrightarrow (\\text{p} \\land \\text{q}) \\land \\text{r}$\n",
        "\n",
        "| $\\text{p}$ | $\\text{q}$ | $\\text{r}$ | $\\color{red}{\\text{p} \\land (\\text{q} \\land \\text{r})}$ | $\\color{red}{(\\text{p} \\land \\text{q}) \\land \\text{r}}$ |\n",
        "|------------|------------|---------------|------|-|\n",
        "| V | V | V | V &nbsp;&nbsp;&nbsp;&nbsp;&nbsp;&nbsp;&nbsp;&nbsp;&nbsp;&nbsp;&nbsp;&nbsp;&nbsp;&nbsp;&nbsp;&nbsp; | V &nbsp;&nbsp;&nbsp;&nbsp;&nbsp;&nbsp;&nbsp;&nbsp;&nbsp;&nbsp;&nbsp;&nbsp;&nbsp;&nbsp;&nbsp;&nbsp;&nbsp;&nbsp; |\n",
        "| V | V | F | F | F |\n",
        "| V | F | V | F | F |\n",
        "| V | F | F | F | F |\n",
        "| F | V | V | F | F |\n",
        "| F | V | F | F | F |\n",
        "| F | F | V | F | F |\n",
        "| F | F | F | F | F |\n",
        "\n",
        "**Conclusão**: Como para todos os casos o valor-verdade da primeira coluna vermelha (fórmula à esquerda da $\\Leftrightarrow$) é o mesmo da segunda coluna vermelha (fórmula à direita da $\\Leftrightarrow$), as fórmulas são de fato equivalentes.\n",
        "\n",
        "$\\text{p} \\lor (\\text{q} \\lor \\text{r}) \\Leftrightarrow (\\text{p} \\lor \\text{q}) \\lor \\text{r}$\n",
        "\n",
        "| $\\text{p}$ | $\\text{q}$ | $\\text{r}$ | $\\color{red}{\\text{p} \\lor (\\text{q} \\lor \\text{r})}$ | $\\color{red}{(\\text{p} \\lor \\text{q}) \\lor \\text{r}}$ |\n",
        "|------------|------------|---------------|------|-|\n",
        "| V | V | V | V &nbsp;&nbsp;&nbsp;&nbsp;&nbsp;&nbsp;&nbsp;&nbsp;&nbsp;&nbsp;&nbsp;&nbsp;&nbsp;&nbsp;&nbsp;&nbsp; | V &nbsp;&nbsp;&nbsp;&nbsp;&nbsp;&nbsp;&nbsp;&nbsp;&nbsp;&nbsp;&nbsp;&nbsp;&nbsp;&nbsp;&nbsp;&nbsp;&nbsp;&nbsp; |\n",
        "| V | V | F | V | V |\n",
        "| V | F | V | V | V |\n",
        "| V | F | F | V | V |\n",
        "| F | V | V | V | V |\n",
        "| F | V | F | V | V |\n",
        "| F | F | V | V | V |\n",
        "| F | F | F | F | F |\n",
        "\n",
        "**Conclusão**: Como para todos os casos o valor-verdade da primeira coluna vermelha (fórmula à esquerda da $\\Leftrightarrow$) é o mesmo da segunda coluna vermelha (fórmula à direita da $\\Leftrightarrow$), as fórmulas são de fato equivalentes."
      ],
      "metadata": {
        "id": "KkI1Mo5hOTLl"
      }
    },
    {
      "cell_type": "markdown",
      "source": [
        "d) *Distributiva*\n",
        "\n",
        "Distributividade do conectivo **ou** sobre o conectivo **e**:\n",
        "\n",
        "$\\text{p} \\lor (\\text{q} \\land \\text{r}) \\Leftrightarrow (\\text{p} \\lor \\text{q}) \\land (\\text{p} \\lor \\text{r})$\n",
        "\n",
        "| $\\text{p}$ | $\\text{q}$ | $\\text{r}$ | $\\color{red}{\\text{p} \\lor (\\text{q} \\land \\text{r})}$ | $\\color{red}{(\\text{p} \\lor \\text{q}) \\land (\\text{p} \\lor \\text{r})}$ |\n",
        "|------------|------------|---------------|------|-|\n",
        "| V | V | V | V &nbsp;&nbsp;&nbsp;&nbsp;&nbsp;&nbsp;&nbsp;&nbsp;&nbsp;&nbsp;&nbsp;&nbsp;&nbsp;&nbsp;&nbsp;&nbsp; | V &nbsp;&nbsp;&nbsp;&nbsp;&nbsp;&nbsp;&nbsp;&nbsp;&nbsp;&nbsp;&nbsp;&nbsp;&nbsp;&nbsp;&nbsp;&nbsp;&nbsp;&nbsp;&nbsp;&nbsp;&nbsp;&nbsp;&nbsp;&nbsp;&nbsp;&nbsp; |\n",
        "| V | V | F | V | V |\n",
        "| V | F | V | V | V |\n",
        "| V | F | F | V | V |\n",
        "| F | V | V | V | V |\n",
        "| F | V | F | F | F |\n",
        "| F | F | V | F | F |\n",
        "| F | F | F | F | F |\n",
        "\n",
        "**Conclusão**: Como para todos os casos o valor-verdade da primeira coluna vermelha (fórmula à esquerda da $\\Leftrightarrow$) é o mesmo da segunda coluna vermelha (fórmula à direita da $\\Leftrightarrow$), as fórmulas são de fato equivalentes.\n",
        "\n",
        "Distributividade do conectivo **e** sobre o conectivo **ou**:\n",
        "\n",
        "$\\text{p} \\land (\\text{q} \\lor \\text{r}) \\Leftrightarrow (\\text{p} \\land \\text{q}) \\lor (\\text{p} \\land \\text{r})$\n",
        "\n",
        "| $\\text{p}$ | $\\text{q}$ | $\\text{r}$ | $\\color{red}{\\text{p} \\land (\\text{q} \\lor \\text{r})}$ | $\\color{red}{(\\text{p} \\land \\text{q}) \\lor (\\text{p} \\land \\text{r})}$ |\n",
        "|------------|------------|---------------|------|-|\n",
        "| V | V | V | V &nbsp;&nbsp;&nbsp;&nbsp;&nbsp;&nbsp;&nbsp;&nbsp;&nbsp;&nbsp;&nbsp;&nbsp;&nbsp;&nbsp;&nbsp;&nbsp; | V &nbsp;&nbsp;&nbsp;&nbsp;&nbsp;&nbsp;&nbsp;&nbsp;&nbsp;&nbsp;&nbsp;&nbsp;&nbsp;&nbsp;&nbsp;&nbsp;&nbsp;&nbsp;&nbsp;&nbsp;&nbsp;&nbsp;&nbsp;&nbsp;&nbsp;&nbsp; |\n",
        "| V | V | F | V | V |\n",
        "| V | F | V | V | V |\n",
        "| V | F | F | F | F |\n",
        "| F | V | V | F | F |\n",
        "| F | V | F | F | F |\n",
        "| F | F | V | F | F |\n",
        "| F | F | F | F | F |\n",
        "\n",
        "**Conclusão**: Como para todos os casos o valor-verdade da primeira coluna vermelha (fórmula à esquerda da $\\Leftrightarrow$) é o mesmo da segunda coluna vermelha (fórmula à direita da $\\Leftrightarrow$), as fórmulas são de fato equivalentes."
      ],
      "metadata": {
        "id": "JlMniFUjPO08"
      }
    },
    {
      "cell_type": "markdown",
      "source": [
        "e) *Dupla negação*\n",
        "\n",
        "$\\neg\\neg\\text{p} \\Leftrightarrow \\text{p}$\n",
        "\n",
        "| $\\text{p}$ | $\\neg\\text{p}$ | $\\neg\\neg\\text{p}$ |\n",
        "|------------|---------------------------|-|\n",
        "| V | F | V |\n",
        "| F | V | F |\n",
        "\n",
        "**Conclusão**: Como para todos os casos o valor-verdade da primeira coluna vermelha (fórmula à esquerda da $\\Leftrightarrow$) é o mesmo da segunda coluna vermelha (fórmula à direita da $\\Leftrightarrow$), as fórmulas são de fato equivalentes."
      ],
      "metadata": {
        "id": "nHIBKrDSQUSb"
      }
    },
    {
      "cell_type": "markdown",
      "source": [
        "f) *Leis de DeMorgan*\n",
        "\n",
        "$\\neg(\\text{p} \\land \\text{q}) \\Leftrightarrow \\neg\\text{p} \\lor \\neg\\text{q}$\n",
        "\n",
        "| $\\text{p}$ | $\\text{q}$ | $\\color{red}{\\neg(\\text{p} \\land \\text{q})}$ | $\\color{red}{\\neg\\text{p} \\lor \\neg\\text{q}}$ |\n",
        "|------------|------------|---------------|------|\n",
        "| V | V | F &nbsp;&nbsp;&nbsp;&nbsp;&nbsp;&nbsp;&nbsp;&nbsp;&nbsp;&nbsp;&nbsp;&nbsp;&nbsp; | F &nbsp;&nbsp;&nbsp;&nbsp;&nbsp;&nbsp;&nbsp;&nbsp;&nbsp;&nbsp;&nbsp;&nbsp; |\n",
        "| V | F | V | V |\n",
        "| F | V | V | V |\n",
        "| F | F | V | V |\n",
        "\n",
        "**Conclusão**: Como para todos os casos o valor-verdade da primeira coluna vermelha (fórmula à esquerda da $\\Leftrightarrow$) é o mesmo da segunda coluna vermelha (fórmula à direita da $\\Leftrightarrow$), as fórmulas são de fato equivalentes.\n",
        "\n",
        "$\\neg(\\text{p} \\lor \\text{q}) \\Leftrightarrow \\neg\\text{p} \\land \\neg\\text{q}$\n",
        "\n",
        "| $\\text{p}$ | $\\text{q}$ | $\\color{red}{\\neg(\\text{p} \\lor \\text{q})}$ | $\\color{red}{\\neg\\text{p} \\land \\neg\\text{q}}$ |\n",
        "|------------|------------|---------------|------|\n",
        "| V | V | F &nbsp;&nbsp;&nbsp;&nbsp;&nbsp;&nbsp;&nbsp;&nbsp;&nbsp;&nbsp;&nbsp;&nbsp;&nbsp; | F &nbsp;&nbsp;&nbsp;&nbsp;&nbsp;&nbsp;&nbsp;&nbsp;&nbsp;&nbsp;&nbsp;&nbsp; |\n",
        "| V | F | F | F |\n",
        "| F | V | F | F |\n",
        "| F | F | V | V |\n",
        "\n",
        "**Conclusão**: Como para todos os casos o valor-verdade da primeira coluna vermelha (fórmula à esquerda da $\\Leftrightarrow$) é o mesmo da segunda coluna vermelha (fórmula à direita da $\\Leftrightarrow$), as fórmulas são de fato equivalentes."
      ],
      "metadata": {
        "id": "q8Gl57DSQmyC"
      }
    },
    {
      "cell_type": "markdown",
      "source": [
        "g) *Absorção*\n",
        "\n",
        "$\\text{p} \\land (\\text{p} \\lor \\text{q}) \\Leftrightarrow \\text{p}$\n",
        "\n",
        "| $\\text{p}$ | $\\text{q}$ | $\\text{p} \\land (\\text{p} \\lor \\text{q})$ |\n",
        "|------------|------------|---------------|\n",
        "| V | V | V &nbsp;&nbsp;&nbsp;&nbsp;&nbsp;&nbsp;&nbsp;&nbsp;&nbsp;&nbsp;&nbsp;&nbsp;&nbsp;&nbsp;&nbsp;&nbsp;&nbsp;&nbsp;&nbsp;&nbsp; |\n",
        "| V | F | V |\n",
        "| F | V | F |\n",
        "| F | F | F |\n",
        "\n",
        "**Conclusão**: Como para todos os casos o valor-verdade da primeira coluna vermelha (fórmula à esquerda da $\\Leftrightarrow$) é o mesmo da segunda coluna vermelha (fórmula à direita da $\\Leftrightarrow$), as fórmulas são de fato equivalentes.\n",
        "\n",
        "$\\text{p} \\lor (\\text{p} \\land \\text{q}) \\Leftrightarrow \\text{p}$\n",
        "\n",
        "| $\\text{p}$ | $\\text{q}$ | $\\text{p} \\lor (\\text{p} \\land \\text{q})$ |\n",
        "|------------|------------|---------------|\n",
        "| V | V | V &nbsp;&nbsp;&nbsp;&nbsp;&nbsp;&nbsp;&nbsp;&nbsp;&nbsp;&nbsp;&nbsp;&nbsp;&nbsp;&nbsp;&nbsp;&nbsp;&nbsp;&nbsp;&nbsp;&nbsp; |\n",
        "| V | F | V |\n",
        "| F | V | F |\n",
        "| F | F | F |\n",
        "\n",
        "**Conclusão**: Como para todos os casos o valor-verdade da primeira coluna vermelha (fórmula à esquerda da $\\Leftrightarrow$) é o mesmo da segunda coluna vermelha (fórmula à direita da $\\Leftrightarrow$), as fórmulas são de fato equivalentes."
      ],
      "metadata": {
        "id": "sFqwzstnRORu"
      }
    },
    {
      "cell_type": "markdown",
      "source": [
        "***"
      ],
      "metadata": {
        "id": "-WuDyOtxRpS8"
      }
    },
    {
      "cell_type": "markdown",
      "source": [
        "(3-1.1-10) São dadas diversas formas de **negação** para cada uma das proposições a seguir. Quais estão corretas? (Destaque **em negrito** as opções corretas, note que pode haver mais de uma correta para cada letra) (6 pontos)\n",
        "\n",
        "- a. A caixa está selada ou o leite está azedo.\n",
        "  - 1. O leite não está azedo ou a caixa não está selada.\n",
        "  - 2. **A caixa não está selada e também o leite não está azedo.**\n",
        "  - 3. Se a caixa não estiver selada, então o leite estará azedo.\n",
        "\n",
        "- b. As flores só irão desabrochar se chover.\n",
        "  - 1. As flores irão desabrochar, mas não choverá.\n",
        "  - 2. As flores não irão desabrochar e não choverá.\n",
        "  - 3. **As flores não irão desabrochar, ou senão não choverá.**\n",
        "\n",
        "- c. Se você construir isso, eles virão.\n",
        "  - 1. Se você construir isso, eles não virão.\n",
        "  - 2. Você não vai construir isso, mas eles virão.\n",
        "  - 3. **Você vai construir isso, mas eles não virão.**"
      ],
      "metadata": {
        "id": "LDBR4nJGTdw5"
      }
    },
    {
      "cell_type": "markdown",
      "source": [
        "***"
      ],
      "metadata": {
        "id": "RbbVnBn8V3JR"
      }
    },
    {
      "cell_type": "markdown",
      "source": [
        "(3-1.1-14) Usando as letras indicadas para as proposições componentes, escreva as afirmações compostas a seguir em notação simbólica. (o primeiro está feito para você usar como modelo de resposta) (4 pontos)\n",
        "\n",
        "- a. A: o trator vence; B: o caminhão vence; C: a corrida será excitante.\n",
        "  - Se o trator ou o caminhão vencer, a corrida será excitante.\n",
        "   \n",
        "   $(\\text{A} \\lor \\text{B}) \\rightarrow \\text{C}$\n",
        "\n",
        "- b. A: nevou; B: choveu; C: ontem estava nublado.\n",
        "  - Ontem estava nublado, mas não nevou nem choveu.\n",
        "\n",
        "    $(\\text{C} \\land (\\neg\\text{A} \\land \\neg\\text{B})$\n",
        "\n",
        "- c. A: os coalas serão salvos; B: mudanças climáticas forem discutidas; C: os níveis dos oceanos subirão.\n",
        "  - Os coalas só serão salvos se as mudanças climáticas forem discutidas; além disso, não discutir as mudanças climáticas fará com que os níveis dos oceanos subam.\n",
        "\n",
        "    $(\\text{A} \\rightarrow \\text{B}) \\land ((\\neg\\text{B} \\rightarrow \\text{C})$\n",
        "\n",
        "- d. A: a economia da cidade irá melhorar; B: um bom sistema escolar.\n",
        "  - A economia da cidade irá melhorar desde que haja um bom sistema escolar.\n",
        "\n",
        "    $\\text{B} \\rightarrow \\text{A}$\n",
        "\n",
        "- e. A: a economia da cidade irá melhorar; B: um bom sistema escolar.\n",
        "  - Um bom sistema escolar é uma condição necessária para que a economia da cidade melhore.\n",
        "\n",
        "    $\\text{A} \\rightarrow \\text{B}$"
      ],
      "metadata": {
        "id": "dyvs-9GQVPVF"
      }
    },
    {
      "cell_type": "markdown",
      "source": [
        "***"
      ],
      "metadata": {
        "id": "LqdVW_viYsNO"
      }
    },
    {
      "cell_type": "markdown",
      "source": [
        "(6-7-7.16) Eis outra operação booleana chamada ou exclusivo, denotada pelo símbolo $\\oplus$ e definida pela tabela seguinte (5 pontos):\n",
        "\n",
        "| $x$ | $y$ | $x \\oplus y$ |\n",
        "|-----|-----|--------------|\n",
        "| V | V | F&nbsp;&nbsp;&nbsp;&nbsp;&nbsp;&nbsp;&nbsp;&nbsp;&nbsp;&nbsp;&nbsp; |\n",
        "| V | F | V |\n",
        "| F | V | V |\n",
        "| F | F | F |\n",
        "\n",
        "Faça o seguinte:\n",
        "\n",
        "- a.\tProve que $\\oplus$ verifica as propriedades comutativa e associativa; isto é, prove as equivalências\n",
        "lógicas\n",
        "  \n",
        "  $x \\oplus y = y \\oplus x$ e\n",
        "\n",
        "| $x$ | $y$ | $\\color{red}{ x \\oplus y}$ |\n",
        "|-----|-----|--------------|\n",
        "| V | V | F&nbsp;&nbsp;&nbsp;&nbsp;&nbsp;&nbsp;&nbsp;&nbsp;&nbsp;&nbsp;&nbsp; |\n",
        "| V | F | V |\n",
        "| F | V | V |\n",
        "| F | F | F |\n",
        "\n",
        "| $y$ | $x$ | $\\color{red}{ y \\oplus x}$ |\n",
        "|-----|-----|--------------|\n",
        "| V | V | F&nbsp;&nbsp;&nbsp;&nbsp;&nbsp;&nbsp;&nbsp;&nbsp;&nbsp;&nbsp;&nbsp; |\n",
        "| V | F | V |\n",
        "| F | V | V |\n",
        "| F | F | F |\n",
        "\n",
        "   **Portanto:**\n",
        "   \n",
        "   $ \\color{red}{x \\oplus y = y \\oplus x} $\n",
        "  \n",
        "  $(x \\oplus y) \\oplus z = x \\oplus (y \\oplus z)$.\n",
        "\n",
        "| $\\text{x}$ | $\\text{y}$ | $\\text{z}$ | $\\color{red}{(x \\oplus y) \\oplus z}$ | $\\color{red}{x \\oplus (y \\oplus z)}$ |\n",
        "|------------|------------|---------------|------|-|\n",
        "| V | V | V | V &nbsp;&nbsp;&nbsp;&nbsp;&nbsp;&nbsp;&nbsp;&nbsp;&nbsp;&nbsp;&nbsp;&nbsp;&nbsp;&nbsp;&nbsp;&nbsp;&nbsp;&nbsp;&nbsp; | V &nbsp;&nbsp;&nbsp;&nbsp;&nbsp;&nbsp;&nbsp;&nbsp;&nbsp;&nbsp;&nbsp;&nbsp;&nbsp;&nbsp;&nbsp;&nbsp;&nbsp;&nbsp; |\n",
        "| V | V | F | F | F |\n",
        "| V | F | V | F | F |\n",
        "| V | F | F | V | V |\n",
        "| F | V | V | F | F |\n",
        "| F | V | F | V | V |\n",
        "| F | F | V | V | V |\n",
        "| F | F | F | F | F |\n",
        "  \n",
        "- b. Prove que $ x \\oplus y$ é logicamente equivalente a\n",
        "\n",
        "  $ (x \\land \\neg y) \\lor (\\neg x \\land y) $ (assim, $\\oplus$ pode expressar-se em termos das operações básicas $\\land$, $\\lor$ e $\\neg$).\n",
        "\n",
        "| $\\text{x}$ | $\\text{y}$ | $\\neg\\text{x}$ | $\\neg\\text{y}$ | $x \\land \\neg y$ | $\\neg x \\land y$ | $\\color{red}{(x \\land \\neg y) \\lor (\\neg x \\land y)}$ | $\\color{red}{ x \\oplus y}$ |\n",
        "|------------|------------|---------------|------|-|-|-|-|\n",
        "| V | V | F | F | F &nbsp;&nbsp;&nbsp;&nbsp;&nbsp;&nbsp;&nbsp;&nbsp;&nbsp;&nbsp;&nbsp;&nbsp; | F &nbsp;&nbsp;&nbsp;&nbsp;&nbsp;&nbsp;&nbsp;&nbsp;&nbsp;&nbsp;&nbsp;&nbsp; | F  &nbsp;&nbsp;&nbsp;&nbsp;&nbsp;&nbsp;&nbsp;&nbsp;&nbsp;&nbsp;&nbsp;&nbsp;&nbsp;&nbsp;&nbsp;&nbsp;&nbsp;&nbsp;&nbsp;&nbsp;&nbsp;&nbsp;&nbsp;&nbsp;&nbsp;&nbsp;&nbsp;&nbsp;&nbsp;&nbsp;&nbsp;&nbsp;&nbsp;&nbsp;&nbsp;&nbsp;&nbsp;&nbsp; | F &nbsp;&nbsp;&nbsp;&nbsp;&nbsp;&nbsp;&nbsp;&nbsp;&nbsp;|\n",
        "| V | F | F | V | V | F | V | V |\n",
        "| F | V | V | F | F | V | V | V |\n",
        "| F | F | V | V | F | F | F | F |\n",
        "\n",
        "- c.\tProve que $x \\oplus y$ é logicamente equivalente a\n",
        "\n",
        "  $(x \\lor y) \\land (\\neg(x \\land y))$ (trata-se de outra maneira\n",
        "de expressar $\\oplus$ em termos de $\\land$, $\\lor$ e $\\neg$).\n",
        "\n",
        "| $\\text{x}$ | $\\text{y}$ | $x \\lor y$ | $x \\land y$ | $\\neg(x \\land y)$ | $\\color{red}{(x \\lor y) \\land (\\neg(x \\land y))}$ | $\\color{red}{ x \\oplus y}$ |\n",
        "|------------|------------|---------------|------|-|-|-|\n",
        "| V | V | V &nbsp;&nbsp;&nbsp;&nbsp;&nbsp;&nbsp;&nbsp;&nbsp;&nbsp; | V &nbsp;&nbsp;&nbsp;&nbsp;&nbsp;&nbsp;&nbsp;&nbsp;&nbsp; | F &nbsp;&nbsp;&nbsp;&nbsp;&nbsp;&nbsp;&nbsp;&nbsp;&nbsp;&nbsp;&nbsp;&nbsp;&nbsp;&nbsp;&nbsp; | F &nbsp;&nbsp;&nbsp;&nbsp;&nbsp;&nbsp;&nbsp;&nbsp;&nbsp;&nbsp;&nbsp;&nbsp;&nbsp;&nbsp;&nbsp;&nbsp;&nbsp;&nbsp;&nbsp;&nbsp;&nbsp;&nbsp;&nbsp;&nbsp;&nbsp;&nbsp;&nbsp;&nbsp;&nbsp;&nbsp;&nbsp;&nbsp;&nbsp;&nbsp;&nbsp;&nbsp;&nbsp;&nbsp; | F &nbsp;&nbsp;&nbsp;&nbsp;&nbsp;&nbsp;&nbsp;&nbsp;&nbsp;|\n",
        "| V | F | V | F | V | V | V |\n",
        "| F | V | V | F | V | V | V |\n",
        "| F | F | F | F | V | F | F |\n",
        "\n",
        "- d.\tExplique por que a operação ∨ é chamada *ou exclusivo*.\n",
        "\n",
        "  Na verdade a opereção v é chamada somente *ou*. A operação $\\oplus$ é chamada *ou exclusivo* porque a uma exclusividade de afirmação onde apenas uma das proposições pode ser verdadeira. Ou seja, se as duas proposições forem verdadeiras ela perde a exclusividade. É o mesmo que dizer o seguinte: **Ou eu vou de carro ou eu vou de ônibus**. Para esta frase ser verdadeira, somente uma das proposições pode ocorrer.\n"
      ],
      "metadata": {
        "id": "v7yevN_OYtD-"
      }
    },
    {
      "cell_type": "markdown",
      "source": [
        "(6-7-7.17) Discutimos várias operações booleanas binárias: $\\land$, $\\lor$, $\\rightarrow$, $\\leftrightarrow$ e (no problema anterior) $\\oplus$. Quantas operações booleanas binárias diferentes pode haver? Em outras palavras, de quantas maneiras diferentes podemos completar a tabela seguinte? (**Não forneça simplesmente o número, explique como chegou nele**) (4: pontos)\n",
        "\n",
        "| $x$ | $y$ | $x * y$ |\n",
        "|-----|-----|---------|\n",
        "| V | V | ?&nbsp;&nbsp;&nbsp;&nbsp;&nbsp;&nbsp;&nbsp;&nbsp;&nbsp;&nbsp; |\n",
        "| V | F | ?\n",
        "| F | V | ?\n",
        "| F | F | ?\n",
        "\n",
        "Se temos 5 operações binárias, vamos ter 5 tabelas diferentes que podemos preencher. Se formos considerar que a operação pode receber qualquer sinal $\\neg$, vamos ter 4 variações de tabela (x * y; $\\neg x$ * y; x * $\\neg y$ e $\\neg x$ * $\\neg y$). Logo, 5 * 4 é igual a 20 tabelas diferentes.\n",
        "\n",
        "Agora, se a referência for quantas possibilidades diferentes (e que não se repetem) de resultados de V ou F para duas proposições que resulta em uma tabela de 4 linhas, vamos ter 2 possibilidades para 4 linhas, ou seja 2^4 que é igual a 16. Mas as operações para completar a tabela incluem algumas que não estudamos, como as constantes de x e y, para que a tabela possa resultar em tautologia ou contradição, identidade de x e de y; e negação de uma das proposições ou das duas."
      ],
      "metadata": {
        "id": "ns9H6JNocYbk"
      }
    },
    {
      "cell_type": "markdown",
      "source": [
        "***"
      ],
      "metadata": {
        "id": "ye06e3j-dgxF"
      }
    }
  ]
}